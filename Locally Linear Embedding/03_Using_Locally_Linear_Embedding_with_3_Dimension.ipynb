{
  "nbformat": 4,
  "nbformat_minor": 0,
  "metadata": {
    "colab": {
      "provenance": []
    },
    "kernelspec": {
      "name": "python3",
      "display_name": "Python 3"
    },
    "language_info": {
      "name": "python"
    }
  },
  "cells": [
    {
      "cell_type": "markdown",
      "source": [
        "###Import of Libraries"
      ],
      "metadata": {
        "id": "8pEI6m-XUK7q"
      }
    },
    {
      "cell_type": "code",
      "source": [
        "import pandas as pd\n",
        "import io\n",
        "from google.colab import files\n",
        "from sklearn.preprocessing import MinMaxScaler\n",
        "from sklearn.manifold import LocallyLinearEmbedding\n",
        "import seaborn as sns\n",
        "import matplotlib.pyplot as plt\n",
        "import plotly.express as px"
      ],
      "metadata": {
        "id": "q66AIKrIUUg6"
      },
      "execution_count": 1,
      "outputs": []
    },
    {
      "cell_type": "code",
      "source": [
        "uploaded = files.upload()"
      ],
      "metadata": {
        "colab": {
          "base_uri": "https://localhost:8080/",
          "height": 74
        },
        "id": "xQuoagq2Vk97",
        "outputId": "ec15cca1-3cb4-4cf7-e3d7-2a942528cd80"
      },
      "execution_count": 2,
      "outputs": [
        {
          "output_type": "display_data",
          "data": {
            "text/plain": [
              "<IPython.core.display.HTML object>"
            ],
            "text/html": [
              "\n",
              "     <input type=\"file\" id=\"files-fc73e9e8-a07c-4a8e-906b-e34527cf5c31\" name=\"files[]\" multiple disabled\n",
              "        style=\"border:none\" />\n",
              "     <output id=\"result-fc73e9e8-a07c-4a8e-906b-e34527cf5c31\">\n",
              "      Upload widget is only available when the cell has been executed in the\n",
              "      current browser session. Please rerun this cell to enable.\n",
              "      </output>\n",
              "      <script>// Copyright 2017 Google LLC\n",
              "//\n",
              "// Licensed under the Apache License, Version 2.0 (the \"License\");\n",
              "// you may not use this file except in compliance with the License.\n",
              "// You may obtain a copy of the License at\n",
              "//\n",
              "//      http://www.apache.org/licenses/LICENSE-2.0\n",
              "//\n",
              "// Unless required by applicable law or agreed to in writing, software\n",
              "// distributed under the License is distributed on an \"AS IS\" BASIS,\n",
              "// WITHOUT WARRANTIES OR CONDITIONS OF ANY KIND, either express or implied.\n",
              "// See the License for the specific language governing permissions and\n",
              "// limitations under the License.\n",
              "\n",
              "/**\n",
              " * @fileoverview Helpers for google.colab Python module.\n",
              " */\n",
              "(function(scope) {\n",
              "function span(text, styleAttributes = {}) {\n",
              "  const element = document.createElement('span');\n",
              "  element.textContent = text;\n",
              "  for (const key of Object.keys(styleAttributes)) {\n",
              "    element.style[key] = styleAttributes[key];\n",
              "  }\n",
              "  return element;\n",
              "}\n",
              "\n",
              "// Max number of bytes which will be uploaded at a time.\n",
              "const MAX_PAYLOAD_SIZE = 100 * 1024;\n",
              "\n",
              "function _uploadFiles(inputId, outputId) {\n",
              "  const steps = uploadFilesStep(inputId, outputId);\n",
              "  const outputElement = document.getElementById(outputId);\n",
              "  // Cache steps on the outputElement to make it available for the next call\n",
              "  // to uploadFilesContinue from Python.\n",
              "  outputElement.steps = steps;\n",
              "\n",
              "  return _uploadFilesContinue(outputId);\n",
              "}\n",
              "\n",
              "// This is roughly an async generator (not supported in the browser yet),\n",
              "// where there are multiple asynchronous steps and the Python side is going\n",
              "// to poll for completion of each step.\n",
              "// This uses a Promise to block the python side on completion of each step,\n",
              "// then passes the result of the previous step as the input to the next step.\n",
              "function _uploadFilesContinue(outputId) {\n",
              "  const outputElement = document.getElementById(outputId);\n",
              "  const steps = outputElement.steps;\n",
              "\n",
              "  const next = steps.next(outputElement.lastPromiseValue);\n",
              "  return Promise.resolve(next.value.promise).then((value) => {\n",
              "    // Cache the last promise value to make it available to the next\n",
              "    // step of the generator.\n",
              "    outputElement.lastPromiseValue = value;\n",
              "    return next.value.response;\n",
              "  });\n",
              "}\n",
              "\n",
              "/**\n",
              " * Generator function which is called between each async step of the upload\n",
              " * process.\n",
              " * @param {string} inputId Element ID of the input file picker element.\n",
              " * @param {string} outputId Element ID of the output display.\n",
              " * @return {!Iterable<!Object>} Iterable of next steps.\n",
              " */\n",
              "function* uploadFilesStep(inputId, outputId) {\n",
              "  const inputElement = document.getElementById(inputId);\n",
              "  inputElement.disabled = false;\n",
              "\n",
              "  const outputElement = document.getElementById(outputId);\n",
              "  outputElement.innerHTML = '';\n",
              "\n",
              "  const pickedPromise = new Promise((resolve) => {\n",
              "    inputElement.addEventListener('change', (e) => {\n",
              "      resolve(e.target.files);\n",
              "    });\n",
              "  });\n",
              "\n",
              "  const cancel = document.createElement('button');\n",
              "  inputElement.parentElement.appendChild(cancel);\n",
              "  cancel.textContent = 'Cancel upload';\n",
              "  const cancelPromise = new Promise((resolve) => {\n",
              "    cancel.onclick = () => {\n",
              "      resolve(null);\n",
              "    };\n",
              "  });\n",
              "\n",
              "  // Wait for the user to pick the files.\n",
              "  const files = yield {\n",
              "    promise: Promise.race([pickedPromise, cancelPromise]),\n",
              "    response: {\n",
              "      action: 'starting',\n",
              "    }\n",
              "  };\n",
              "\n",
              "  cancel.remove();\n",
              "\n",
              "  // Disable the input element since further picks are not allowed.\n",
              "  inputElement.disabled = true;\n",
              "\n",
              "  if (!files) {\n",
              "    return {\n",
              "      response: {\n",
              "        action: 'complete',\n",
              "      }\n",
              "    };\n",
              "  }\n",
              "\n",
              "  for (const file of files) {\n",
              "    const li = document.createElement('li');\n",
              "    li.append(span(file.name, {fontWeight: 'bold'}));\n",
              "    li.append(span(\n",
              "        `(${file.type || 'n/a'}) - ${file.size} bytes, ` +\n",
              "        `last modified: ${\n",
              "            file.lastModifiedDate ? file.lastModifiedDate.toLocaleDateString() :\n",
              "                                    'n/a'} - `));\n",
              "    const percent = span('0% done');\n",
              "    li.appendChild(percent);\n",
              "\n",
              "    outputElement.appendChild(li);\n",
              "\n",
              "    const fileDataPromise = new Promise((resolve) => {\n",
              "      const reader = new FileReader();\n",
              "      reader.onload = (e) => {\n",
              "        resolve(e.target.result);\n",
              "      };\n",
              "      reader.readAsArrayBuffer(file);\n",
              "    });\n",
              "    // Wait for the data to be ready.\n",
              "    let fileData = yield {\n",
              "      promise: fileDataPromise,\n",
              "      response: {\n",
              "        action: 'continue',\n",
              "      }\n",
              "    };\n",
              "\n",
              "    // Use a chunked sending to avoid message size limits. See b/62115660.\n",
              "    let position = 0;\n",
              "    do {\n",
              "      const length = Math.min(fileData.byteLength - position, MAX_PAYLOAD_SIZE);\n",
              "      const chunk = new Uint8Array(fileData, position, length);\n",
              "      position += length;\n",
              "\n",
              "      const base64 = btoa(String.fromCharCode.apply(null, chunk));\n",
              "      yield {\n",
              "        response: {\n",
              "          action: 'append',\n",
              "          file: file.name,\n",
              "          data: base64,\n",
              "        },\n",
              "      };\n",
              "\n",
              "      let percentDone = fileData.byteLength === 0 ?\n",
              "          100 :\n",
              "          Math.round((position / fileData.byteLength) * 100);\n",
              "      percent.textContent = `${percentDone}% done`;\n",
              "\n",
              "    } while (position < fileData.byteLength);\n",
              "  }\n",
              "\n",
              "  // All done.\n",
              "  yield {\n",
              "    response: {\n",
              "      action: 'complete',\n",
              "    }\n",
              "  };\n",
              "}\n",
              "\n",
              "scope.google = scope.google || {};\n",
              "scope.google.colab = scope.google.colab || {};\n",
              "scope.google.colab._files = {\n",
              "  _uploadFiles,\n",
              "  _uploadFilesContinue,\n",
              "};\n",
              "})(self);\n",
              "</script> "
            ]
          },
          "metadata": {}
        },
        {
          "output_type": "stream",
          "name": "stdout",
          "text": [
            "Saving crabs.csv to crabs.csv\n"
          ]
        }
      ]
    },
    {
      "cell_type": "markdown",
      "source": [
        "### Initial Study of the Dataset"
      ],
      "metadata": {
        "id": "oPObIoshWJif"
      }
    },
    {
      "cell_type": "code",
      "source": [
        "crabs_data = pd.read_csv(\"crabs.csv\")\n",
        "# Rename the columns\n",
        "crabs_data = crabs_data.rename(columns={'sp':'species','FL':'Frontal Lobe','RW':'Rear Width','CL':'Carapace Midline',\n",
        "                                        'CW':'Maximum Width','BD':'Body Depth'})\n",
        "\n",
        "crabs_data['species'] = crabs_data['species'].map({'B':'Blue','O':'Orange'})\n",
        "crabs_data['sex'] = crabs_data['sex'].map({'M':'Male','F':'Female'})\n"
      ],
      "metadata": {
        "id": "4UGYeXA7WLxE"
      },
      "execution_count": 3,
      "outputs": []
    },
    {
      "cell_type": "code",
      "source": [
        "crabs_data.head()"
      ],
      "metadata": {
        "colab": {
          "base_uri": "https://localhost:8080/",
          "height": 206
        },
        "id": "1tR4tljYYSni",
        "outputId": "f3ee9666-95af-44dd-c69e-e6db32b750ef"
      },
      "execution_count": 4,
      "outputs": [
        {
          "output_type": "execute_result",
          "data": {
            "text/plain": [
              "  species   sex  index  Frontal Lobe  Rear Width  Carapace Midline  \\\n",
              "0    Blue  Male      1           8.1         6.7              16.1   \n",
              "1    Blue  Male      2           8.8         7.7              18.1   \n",
              "2    Blue  Male      3           9.2         7.8              19.0   \n",
              "3    Blue  Male      4           9.6         7.9              20.1   \n",
              "4    Blue  Male      5           9.8         8.0              20.3   \n",
              "\n",
              "   Maximum Width  Body Depth  \n",
              "0           19.0         7.0  \n",
              "1           20.8         7.4  \n",
              "2           22.4         7.7  \n",
              "3           23.1         8.2  \n",
              "4           23.0         8.2  "
            ],
            "text/html": [
              "\n",
              "  <div id=\"df-baccbac8-5bd7-41f5-9928-3c6a33b8307e\">\n",
              "    <div class=\"colab-df-container\">\n",
              "      <div>\n",
              "<style scoped>\n",
              "    .dataframe tbody tr th:only-of-type {\n",
              "        vertical-align: middle;\n",
              "    }\n",
              "\n",
              "    .dataframe tbody tr th {\n",
              "        vertical-align: top;\n",
              "    }\n",
              "\n",
              "    .dataframe thead th {\n",
              "        text-align: right;\n",
              "    }\n",
              "</style>\n",
              "<table border=\"1\" class=\"dataframe\">\n",
              "  <thead>\n",
              "    <tr style=\"text-align: right;\">\n",
              "      <th></th>\n",
              "      <th>species</th>\n",
              "      <th>sex</th>\n",
              "      <th>index</th>\n",
              "      <th>Frontal Lobe</th>\n",
              "      <th>Rear Width</th>\n",
              "      <th>Carapace Midline</th>\n",
              "      <th>Maximum Width</th>\n",
              "      <th>Body Depth</th>\n",
              "    </tr>\n",
              "  </thead>\n",
              "  <tbody>\n",
              "    <tr>\n",
              "      <th>0</th>\n",
              "      <td>Blue</td>\n",
              "      <td>Male</td>\n",
              "      <td>1</td>\n",
              "      <td>8.1</td>\n",
              "      <td>6.7</td>\n",
              "      <td>16.1</td>\n",
              "      <td>19.0</td>\n",
              "      <td>7.0</td>\n",
              "    </tr>\n",
              "    <tr>\n",
              "      <th>1</th>\n",
              "      <td>Blue</td>\n",
              "      <td>Male</td>\n",
              "      <td>2</td>\n",
              "      <td>8.8</td>\n",
              "      <td>7.7</td>\n",
              "      <td>18.1</td>\n",
              "      <td>20.8</td>\n",
              "      <td>7.4</td>\n",
              "    </tr>\n",
              "    <tr>\n",
              "      <th>2</th>\n",
              "      <td>Blue</td>\n",
              "      <td>Male</td>\n",
              "      <td>3</td>\n",
              "      <td>9.2</td>\n",
              "      <td>7.8</td>\n",
              "      <td>19.0</td>\n",
              "      <td>22.4</td>\n",
              "      <td>7.7</td>\n",
              "    </tr>\n",
              "    <tr>\n",
              "      <th>3</th>\n",
              "      <td>Blue</td>\n",
              "      <td>Male</td>\n",
              "      <td>4</td>\n",
              "      <td>9.6</td>\n",
              "      <td>7.9</td>\n",
              "      <td>20.1</td>\n",
              "      <td>23.1</td>\n",
              "      <td>8.2</td>\n",
              "    </tr>\n",
              "    <tr>\n",
              "      <th>4</th>\n",
              "      <td>Blue</td>\n",
              "      <td>Male</td>\n",
              "      <td>5</td>\n",
              "      <td>9.8</td>\n",
              "      <td>8.0</td>\n",
              "      <td>20.3</td>\n",
              "      <td>23.0</td>\n",
              "      <td>8.2</td>\n",
              "    </tr>\n",
              "  </tbody>\n",
              "</table>\n",
              "</div>\n",
              "      <button class=\"colab-df-convert\" onclick=\"convertToInteractive('df-baccbac8-5bd7-41f5-9928-3c6a33b8307e')\"\n",
              "              title=\"Convert this dataframe to an interactive table.\"\n",
              "              style=\"display:none;\">\n",
              "        \n",
              "  <svg xmlns=\"http://www.w3.org/2000/svg\" height=\"24px\"viewBox=\"0 0 24 24\"\n",
              "       width=\"24px\">\n",
              "    <path d=\"M0 0h24v24H0V0z\" fill=\"none\"/>\n",
              "    <path d=\"M18.56 5.44l.94 2.06.94-2.06 2.06-.94-2.06-.94-.94-2.06-.94 2.06-2.06.94zm-11 1L8.5 8.5l.94-2.06 2.06-.94-2.06-.94L8.5 2.5l-.94 2.06-2.06.94zm10 10l.94 2.06.94-2.06 2.06-.94-2.06-.94-.94-2.06-.94 2.06-2.06.94z\"/><path d=\"M17.41 7.96l-1.37-1.37c-.4-.4-.92-.59-1.43-.59-.52 0-1.04.2-1.43.59L10.3 9.45l-7.72 7.72c-.78.78-.78 2.05 0 2.83L4 21.41c.39.39.9.59 1.41.59.51 0 1.02-.2 1.41-.59l7.78-7.78 2.81-2.81c.8-.78.8-2.07 0-2.86zM5.41 20L4 18.59l7.72-7.72 1.47 1.35L5.41 20z\"/>\n",
              "  </svg>\n",
              "      </button>\n",
              "      \n",
              "  <style>\n",
              "    .colab-df-container {\n",
              "      display:flex;\n",
              "      flex-wrap:wrap;\n",
              "      gap: 12px;\n",
              "    }\n",
              "\n",
              "    .colab-df-convert {\n",
              "      background-color: #E8F0FE;\n",
              "      border: none;\n",
              "      border-radius: 50%;\n",
              "      cursor: pointer;\n",
              "      display: none;\n",
              "      fill: #1967D2;\n",
              "      height: 32px;\n",
              "      padding: 0 0 0 0;\n",
              "      width: 32px;\n",
              "    }\n",
              "\n",
              "    .colab-df-convert:hover {\n",
              "      background-color: #E2EBFA;\n",
              "      box-shadow: 0px 1px 2px rgba(60, 64, 67, 0.3), 0px 1px 3px 1px rgba(60, 64, 67, 0.15);\n",
              "      fill: #174EA6;\n",
              "    }\n",
              "\n",
              "    [theme=dark] .colab-df-convert {\n",
              "      background-color: #3B4455;\n",
              "      fill: #D2E3FC;\n",
              "    }\n",
              "\n",
              "    [theme=dark] .colab-df-convert:hover {\n",
              "      background-color: #434B5C;\n",
              "      box-shadow: 0px 1px 3px 1px rgba(0, 0, 0, 0.15);\n",
              "      filter: drop-shadow(0px 1px 2px rgba(0, 0, 0, 0.3));\n",
              "      fill: #FFFFFF;\n",
              "    }\n",
              "  </style>\n",
              "\n",
              "      <script>\n",
              "        const buttonEl =\n",
              "          document.querySelector('#df-baccbac8-5bd7-41f5-9928-3c6a33b8307e button.colab-df-convert');\n",
              "        buttonEl.style.display =\n",
              "          google.colab.kernel.accessAllowed ? 'block' : 'none';\n",
              "\n",
              "        async function convertToInteractive(key) {\n",
              "          const element = document.querySelector('#df-baccbac8-5bd7-41f5-9928-3c6a33b8307e');\n",
              "          const dataTable =\n",
              "            await google.colab.kernel.invokeFunction('convertToInteractive',\n",
              "                                                     [key], {});\n",
              "          if (!dataTable) return;\n",
              "\n",
              "          const docLinkHtml = 'Like what you see? Visit the ' +\n",
              "            '<a target=\"_blank\" href=https://colab.research.google.com/notebooks/data_table.ipynb>data table notebook</a>'\n",
              "            + ' to learn more about interactive tables.';\n",
              "          element.innerHTML = '';\n",
              "          dataTable['output_type'] = 'display_data';\n",
              "          await google.colab.output.renderOutput(dataTable, element);\n",
              "          const docLink = document.createElement('div');\n",
              "          docLink.innerHTML = docLinkHtml;\n",
              "          element.appendChild(docLink);\n",
              "        }\n",
              "      </script>\n",
              "    </div>\n",
              "  </div>\n",
              "  "
            ]
          },
          "metadata": {},
          "execution_count": 4
        }
      ]
    },
    {
      "cell_type": "markdown",
      "source": [
        "The goal is to separate the 200 crabs into four classes, given by the 2x2 configurations for sex (male/female) and species (blue/orange)."
      ],
      "metadata": {
        "id": "x7Zu9yGaZ75f"
      }
    },
    {
      "cell_type": "code",
      "source": [
        "crabs_data['class'] = crabs_data.species + crabs_data.sex\n",
        "crabs_data['class'].value_counts()"
      ],
      "metadata": {
        "colab": {
          "base_uri": "https://localhost:8080/"
        },
        "id": "ZaKklE7YOokv",
        "outputId": "1e16a675-ee9d-45ce-9109-810e2556c5ef"
      },
      "execution_count": 5,
      "outputs": [
        {
          "output_type": "execute_result",
          "data": {
            "text/plain": [
              "BlueMale        50\n",
              "BlueFemale      50\n",
              "OrangeMale      50\n",
              "OrangeFemale    50\n",
              "Name: class, dtype: int64"
            ]
          },
          "metadata": {},
          "execution_count": 5
        }
      ]
    },
    {
      "cell_type": "markdown",
      "source": [
        "## Locally Linear Embedding"
      ],
      "metadata": {
        "id": "itum8_1fQVzT"
      }
    },
    {
      "cell_type": "code",
      "source": [
        "data_columns =['Frontal Lobe',\t'Rear Width'\t,'Carapace Midline'\t,'Maximum Width',\t'Body Depth']"
      ],
      "metadata": {
        "id": "mmuQtntwQXJV"
      },
      "execution_count": 6,
      "outputs": []
    },
    {
      "cell_type": "markdown",
      "source": [
        "This method projects the data into a lower dimensional space trying to preserve the distances between neighbors.\n",
        "\n",
        "So this method is based on local distances. When we work with distances it is important that all variables have the same range. Otherwise, a variable with large values could confuse the model.\n",
        "\n",
        "To avoid these problems we will use the MinMaxScaler this time.\n",
        "\n",
        "It Transforms features by scaling each feature to a given **range**."
      ],
      "metadata": {
        "id": "Us8qnZadROwW"
      }
    },
    {
      "cell_type": "code",
      "source": [
        "crabs_min_max = crabs_data.copy()\n",
        "crabs_min_max[data_columns] = MinMaxScaler().fit_transform(crabs_data[data_columns])"
      ],
      "metadata": {
        "id": "I4CkktXuRP-r"
      },
      "execution_count": 7,
      "outputs": []
    },
    {
      "cell_type": "code",
      "source": [
        "crabs_min_max.head()"
      ],
      "metadata": {
        "colab": {
          "base_uri": "https://localhost:8080/",
          "height": 206
        },
        "id": "BE4zh0yPTCIC",
        "outputId": "72419fe9-0b2c-424f-a16c-193c2f911494"
      },
      "execution_count": 8,
      "outputs": [
        {
          "output_type": "execute_result",
          "data": {
            "text/plain": [
              "  species   sex  index  Frontal Lobe  Rear Width  Carapace Midline  \\\n",
              "0    Blue  Male      1      0.056604    0.014599          0.042553   \n",
              "1    Blue  Male      2      0.100629    0.087591          0.103343   \n",
              "2    Blue  Male      3      0.125786    0.094891          0.130699   \n",
              "3    Blue  Male      4      0.150943    0.102190          0.164134   \n",
              "4    Blue  Male      5      0.163522    0.109489          0.170213   \n",
              "\n",
              "   Maximum Width  Body Depth     class  \n",
              "0       0.050667    0.058065  BlueMale  \n",
              "1       0.098667    0.083871  BlueMale  \n",
              "2       0.141333    0.103226  BlueMale  \n",
              "3       0.160000    0.135484  BlueMale  \n",
              "4       0.157333    0.135484  BlueMale  "
            ],
            "text/html": [
              "\n",
              "  <div id=\"df-b8e300de-3b2c-4556-8a13-215e8009288f\">\n",
              "    <div class=\"colab-df-container\">\n",
              "      <div>\n",
              "<style scoped>\n",
              "    .dataframe tbody tr th:only-of-type {\n",
              "        vertical-align: middle;\n",
              "    }\n",
              "\n",
              "    .dataframe tbody tr th {\n",
              "        vertical-align: top;\n",
              "    }\n",
              "\n",
              "    .dataframe thead th {\n",
              "        text-align: right;\n",
              "    }\n",
              "</style>\n",
              "<table border=\"1\" class=\"dataframe\">\n",
              "  <thead>\n",
              "    <tr style=\"text-align: right;\">\n",
              "      <th></th>\n",
              "      <th>species</th>\n",
              "      <th>sex</th>\n",
              "      <th>index</th>\n",
              "      <th>Frontal Lobe</th>\n",
              "      <th>Rear Width</th>\n",
              "      <th>Carapace Midline</th>\n",
              "      <th>Maximum Width</th>\n",
              "      <th>Body Depth</th>\n",
              "      <th>class</th>\n",
              "    </tr>\n",
              "  </thead>\n",
              "  <tbody>\n",
              "    <tr>\n",
              "      <th>0</th>\n",
              "      <td>Blue</td>\n",
              "      <td>Male</td>\n",
              "      <td>1</td>\n",
              "      <td>0.056604</td>\n",
              "      <td>0.014599</td>\n",
              "      <td>0.042553</td>\n",
              "      <td>0.050667</td>\n",
              "      <td>0.058065</td>\n",
              "      <td>BlueMale</td>\n",
              "    </tr>\n",
              "    <tr>\n",
              "      <th>1</th>\n",
              "      <td>Blue</td>\n",
              "      <td>Male</td>\n",
              "      <td>2</td>\n",
              "      <td>0.100629</td>\n",
              "      <td>0.087591</td>\n",
              "      <td>0.103343</td>\n",
              "      <td>0.098667</td>\n",
              "      <td>0.083871</td>\n",
              "      <td>BlueMale</td>\n",
              "    </tr>\n",
              "    <tr>\n",
              "      <th>2</th>\n",
              "      <td>Blue</td>\n",
              "      <td>Male</td>\n",
              "      <td>3</td>\n",
              "      <td>0.125786</td>\n",
              "      <td>0.094891</td>\n",
              "      <td>0.130699</td>\n",
              "      <td>0.141333</td>\n",
              "      <td>0.103226</td>\n",
              "      <td>BlueMale</td>\n",
              "    </tr>\n",
              "    <tr>\n",
              "      <th>3</th>\n",
              "      <td>Blue</td>\n",
              "      <td>Male</td>\n",
              "      <td>4</td>\n",
              "      <td>0.150943</td>\n",
              "      <td>0.102190</td>\n",
              "      <td>0.164134</td>\n",
              "      <td>0.160000</td>\n",
              "      <td>0.135484</td>\n",
              "      <td>BlueMale</td>\n",
              "    </tr>\n",
              "    <tr>\n",
              "      <th>4</th>\n",
              "      <td>Blue</td>\n",
              "      <td>Male</td>\n",
              "      <td>5</td>\n",
              "      <td>0.163522</td>\n",
              "      <td>0.109489</td>\n",
              "      <td>0.170213</td>\n",
              "      <td>0.157333</td>\n",
              "      <td>0.135484</td>\n",
              "      <td>BlueMale</td>\n",
              "    </tr>\n",
              "  </tbody>\n",
              "</table>\n",
              "</div>\n",
              "      <button class=\"colab-df-convert\" onclick=\"convertToInteractive('df-b8e300de-3b2c-4556-8a13-215e8009288f')\"\n",
              "              title=\"Convert this dataframe to an interactive table.\"\n",
              "              style=\"display:none;\">\n",
              "        \n",
              "  <svg xmlns=\"http://www.w3.org/2000/svg\" height=\"24px\"viewBox=\"0 0 24 24\"\n",
              "       width=\"24px\">\n",
              "    <path d=\"M0 0h24v24H0V0z\" fill=\"none\"/>\n",
              "    <path d=\"M18.56 5.44l.94 2.06.94-2.06 2.06-.94-2.06-.94-.94-2.06-.94 2.06-2.06.94zm-11 1L8.5 8.5l.94-2.06 2.06-.94-2.06-.94L8.5 2.5l-.94 2.06-2.06.94zm10 10l.94 2.06.94-2.06 2.06-.94-2.06-.94-.94-2.06-.94 2.06-2.06.94z\"/><path d=\"M17.41 7.96l-1.37-1.37c-.4-.4-.92-.59-1.43-.59-.52 0-1.04.2-1.43.59L10.3 9.45l-7.72 7.72c-.78.78-.78 2.05 0 2.83L4 21.41c.39.39.9.59 1.41.59.51 0 1.02-.2 1.41-.59l7.78-7.78 2.81-2.81c.8-.78.8-2.07 0-2.86zM5.41 20L4 18.59l7.72-7.72 1.47 1.35L5.41 20z\"/>\n",
              "  </svg>\n",
              "      </button>\n",
              "      \n",
              "  <style>\n",
              "    .colab-df-container {\n",
              "      display:flex;\n",
              "      flex-wrap:wrap;\n",
              "      gap: 12px;\n",
              "    }\n",
              "\n",
              "    .colab-df-convert {\n",
              "      background-color: #E8F0FE;\n",
              "      border: none;\n",
              "      border-radius: 50%;\n",
              "      cursor: pointer;\n",
              "      display: none;\n",
              "      fill: #1967D2;\n",
              "      height: 32px;\n",
              "      padding: 0 0 0 0;\n",
              "      width: 32px;\n",
              "    }\n",
              "\n",
              "    .colab-df-convert:hover {\n",
              "      background-color: #E2EBFA;\n",
              "      box-shadow: 0px 1px 2px rgba(60, 64, 67, 0.3), 0px 1px 3px 1px rgba(60, 64, 67, 0.15);\n",
              "      fill: #174EA6;\n",
              "    }\n",
              "\n",
              "    [theme=dark] .colab-df-convert {\n",
              "      background-color: #3B4455;\n",
              "      fill: #D2E3FC;\n",
              "    }\n",
              "\n",
              "    [theme=dark] .colab-df-convert:hover {\n",
              "      background-color: #434B5C;\n",
              "      box-shadow: 0px 1px 3px 1px rgba(0, 0, 0, 0.15);\n",
              "      filter: drop-shadow(0px 1px 2px rgba(0, 0, 0, 0.3));\n",
              "      fill: #FFFFFF;\n",
              "    }\n",
              "  </style>\n",
              "\n",
              "      <script>\n",
              "        const buttonEl =\n",
              "          document.querySelector('#df-b8e300de-3b2c-4556-8a13-215e8009288f button.colab-df-convert');\n",
              "        buttonEl.style.display =\n",
              "          google.colab.kernel.accessAllowed ? 'block' : 'none';\n",
              "\n",
              "        async function convertToInteractive(key) {\n",
              "          const element = document.querySelector('#df-b8e300de-3b2c-4556-8a13-215e8009288f');\n",
              "          const dataTable =\n",
              "            await google.colab.kernel.invokeFunction('convertToInteractive',\n",
              "                                                     [key], {});\n",
              "          if (!dataTable) return;\n",
              "\n",
              "          const docLinkHtml = 'Like what you see? Visit the ' +\n",
              "            '<a target=\"_blank\" href=https://colab.research.google.com/notebooks/data_table.ipynb>data table notebook</a>'\n",
              "            + ' to learn more about interactive tables.';\n",
              "          element.innerHTML = '';\n",
              "          dataTable['output_type'] = 'display_data';\n",
              "          await google.colab.output.renderOutput(dataTable, element);\n",
              "          const docLink = document.createElement('div');\n",
              "          docLink.innerHTML = docLinkHtml;\n",
              "          element.appendChild(docLink);\n",
              "        }\n",
              "      </script>\n",
              "    </div>\n",
              "  </div>\n",
              "  "
            ]
          },
          "metadata": {},
          "execution_count": 8
        }
      ]
    },
    {
      "cell_type": "markdown",
      "source": [
        "Use Locally Linear Embedding"
      ],
      "metadata": {
        "id": "91LKkVHeVByT"
      }
    },
    {
      "cell_type": "code",
      "source": [
        "lle = LocallyLinearEmbedding(n_components=2,n_neighbors=15)\n",
        "crabs_lle = lle.fit_transform(crabs_min_max[data_columns])\n",
        "\n",
        "print('Reconstruction error: ',lle.reconstruction_error_)\n",
        "\n",
        "crabs_min_max[['LLE1','LLE2']] = crabs_lle"
      ],
      "metadata": {
        "colab": {
          "base_uri": "https://localhost:8080/"
        },
        "id": "ESPjWyGKTbT4",
        "outputId": "df6ba552-6f70-4342-add2-054c3b8b75e6"
      },
      "execution_count": 9,
      "outputs": [
        {
          "output_type": "stream",
          "name": "stdout",
          "text": [
            "Reconstruction error:  2.1530288014255546e-06\n"
          ]
        }
      ]
    },
    {
      "cell_type": "code",
      "source": [
        "crabs_min_max.head()"
      ],
      "metadata": {
        "colab": {
          "base_uri": "https://localhost:8080/",
          "height": 206
        },
        "id": "_kDP3l0564Ul",
        "outputId": "d5bdaa8f-61ae-4a3e-baad-7440d6b14168"
      },
      "execution_count": 10,
      "outputs": [
        {
          "output_type": "execute_result",
          "data": {
            "text/plain": [
              "  species   sex  index  Frontal Lobe  Rear Width  Carapace Midline  \\\n",
              "0    Blue  Male      1      0.056604    0.014599          0.042553   \n",
              "1    Blue  Male      2      0.100629    0.087591          0.103343   \n",
              "2    Blue  Male      3      0.125786    0.094891          0.130699   \n",
              "3    Blue  Male      4      0.150943    0.102190          0.164134   \n",
              "4    Blue  Male      5      0.163522    0.109489          0.170213   \n",
              "\n",
              "   Maximum Width  Body Depth     class      LLE1      LLE2  \n",
              "0       0.050667    0.058065  BlueMale -0.145449  0.060973  \n",
              "1       0.098667    0.083871  BlueMale -0.133111  0.057664  \n",
              "2       0.141333    0.103226  BlueMale -0.126506  0.053316  \n",
              "3       0.160000    0.135484  BlueMale -0.118650  0.028331  \n",
              "4       0.157333    0.135484  BlueMale -0.117088  0.022013  "
            ],
            "text/html": [
              "\n",
              "  <div id=\"df-3966b3b8-619e-4af1-81f0-26fcb0d4007b\">\n",
              "    <div class=\"colab-df-container\">\n",
              "      <div>\n",
              "<style scoped>\n",
              "    .dataframe tbody tr th:only-of-type {\n",
              "        vertical-align: middle;\n",
              "    }\n",
              "\n",
              "    .dataframe tbody tr th {\n",
              "        vertical-align: top;\n",
              "    }\n",
              "\n",
              "    .dataframe thead th {\n",
              "        text-align: right;\n",
              "    }\n",
              "</style>\n",
              "<table border=\"1\" class=\"dataframe\">\n",
              "  <thead>\n",
              "    <tr style=\"text-align: right;\">\n",
              "      <th></th>\n",
              "      <th>species</th>\n",
              "      <th>sex</th>\n",
              "      <th>index</th>\n",
              "      <th>Frontal Lobe</th>\n",
              "      <th>Rear Width</th>\n",
              "      <th>Carapace Midline</th>\n",
              "      <th>Maximum Width</th>\n",
              "      <th>Body Depth</th>\n",
              "      <th>class</th>\n",
              "      <th>LLE1</th>\n",
              "      <th>LLE2</th>\n",
              "    </tr>\n",
              "  </thead>\n",
              "  <tbody>\n",
              "    <tr>\n",
              "      <th>0</th>\n",
              "      <td>Blue</td>\n",
              "      <td>Male</td>\n",
              "      <td>1</td>\n",
              "      <td>0.056604</td>\n",
              "      <td>0.014599</td>\n",
              "      <td>0.042553</td>\n",
              "      <td>0.050667</td>\n",
              "      <td>0.058065</td>\n",
              "      <td>BlueMale</td>\n",
              "      <td>-0.145449</td>\n",
              "      <td>0.060973</td>\n",
              "    </tr>\n",
              "    <tr>\n",
              "      <th>1</th>\n",
              "      <td>Blue</td>\n",
              "      <td>Male</td>\n",
              "      <td>2</td>\n",
              "      <td>0.100629</td>\n",
              "      <td>0.087591</td>\n",
              "      <td>0.103343</td>\n",
              "      <td>0.098667</td>\n",
              "      <td>0.083871</td>\n",
              "      <td>BlueMale</td>\n",
              "      <td>-0.133111</td>\n",
              "      <td>0.057664</td>\n",
              "    </tr>\n",
              "    <tr>\n",
              "      <th>2</th>\n",
              "      <td>Blue</td>\n",
              "      <td>Male</td>\n",
              "      <td>3</td>\n",
              "      <td>0.125786</td>\n",
              "      <td>0.094891</td>\n",
              "      <td>0.130699</td>\n",
              "      <td>0.141333</td>\n",
              "      <td>0.103226</td>\n",
              "      <td>BlueMale</td>\n",
              "      <td>-0.126506</td>\n",
              "      <td>0.053316</td>\n",
              "    </tr>\n",
              "    <tr>\n",
              "      <th>3</th>\n",
              "      <td>Blue</td>\n",
              "      <td>Male</td>\n",
              "      <td>4</td>\n",
              "      <td>0.150943</td>\n",
              "      <td>0.102190</td>\n",
              "      <td>0.164134</td>\n",
              "      <td>0.160000</td>\n",
              "      <td>0.135484</td>\n",
              "      <td>BlueMale</td>\n",
              "      <td>-0.118650</td>\n",
              "      <td>0.028331</td>\n",
              "    </tr>\n",
              "    <tr>\n",
              "      <th>4</th>\n",
              "      <td>Blue</td>\n",
              "      <td>Male</td>\n",
              "      <td>5</td>\n",
              "      <td>0.163522</td>\n",
              "      <td>0.109489</td>\n",
              "      <td>0.170213</td>\n",
              "      <td>0.157333</td>\n",
              "      <td>0.135484</td>\n",
              "      <td>BlueMale</td>\n",
              "      <td>-0.117088</td>\n",
              "      <td>0.022013</td>\n",
              "    </tr>\n",
              "  </tbody>\n",
              "</table>\n",
              "</div>\n",
              "      <button class=\"colab-df-convert\" onclick=\"convertToInteractive('df-3966b3b8-619e-4af1-81f0-26fcb0d4007b')\"\n",
              "              title=\"Convert this dataframe to an interactive table.\"\n",
              "              style=\"display:none;\">\n",
              "        \n",
              "  <svg xmlns=\"http://www.w3.org/2000/svg\" height=\"24px\"viewBox=\"0 0 24 24\"\n",
              "       width=\"24px\">\n",
              "    <path d=\"M0 0h24v24H0V0z\" fill=\"none\"/>\n",
              "    <path d=\"M18.56 5.44l.94 2.06.94-2.06 2.06-.94-2.06-.94-.94-2.06-.94 2.06-2.06.94zm-11 1L8.5 8.5l.94-2.06 2.06-.94-2.06-.94L8.5 2.5l-.94 2.06-2.06.94zm10 10l.94 2.06.94-2.06 2.06-.94-2.06-.94-.94-2.06-.94 2.06-2.06.94z\"/><path d=\"M17.41 7.96l-1.37-1.37c-.4-.4-.92-.59-1.43-.59-.52 0-1.04.2-1.43.59L10.3 9.45l-7.72 7.72c-.78.78-.78 2.05 0 2.83L4 21.41c.39.39.9.59 1.41.59.51 0 1.02-.2 1.41-.59l7.78-7.78 2.81-2.81c.8-.78.8-2.07 0-2.86zM5.41 20L4 18.59l7.72-7.72 1.47 1.35L5.41 20z\"/>\n",
              "  </svg>\n",
              "      </button>\n",
              "      \n",
              "  <style>\n",
              "    .colab-df-container {\n",
              "      display:flex;\n",
              "      flex-wrap:wrap;\n",
              "      gap: 12px;\n",
              "    }\n",
              "\n",
              "    .colab-df-convert {\n",
              "      background-color: #E8F0FE;\n",
              "      border: none;\n",
              "      border-radius: 50%;\n",
              "      cursor: pointer;\n",
              "      display: none;\n",
              "      fill: #1967D2;\n",
              "      height: 32px;\n",
              "      padding: 0 0 0 0;\n",
              "      width: 32px;\n",
              "    }\n",
              "\n",
              "    .colab-df-convert:hover {\n",
              "      background-color: #E2EBFA;\n",
              "      box-shadow: 0px 1px 2px rgba(60, 64, 67, 0.3), 0px 1px 3px 1px rgba(60, 64, 67, 0.15);\n",
              "      fill: #174EA6;\n",
              "    }\n",
              "\n",
              "    [theme=dark] .colab-df-convert {\n",
              "      background-color: #3B4455;\n",
              "      fill: #D2E3FC;\n",
              "    }\n",
              "\n",
              "    [theme=dark] .colab-df-convert:hover {\n",
              "      background-color: #434B5C;\n",
              "      box-shadow: 0px 1px 3px 1px rgba(0, 0, 0, 0.15);\n",
              "      filter: drop-shadow(0px 1px 2px rgba(0, 0, 0, 0.3));\n",
              "      fill: #FFFFFF;\n",
              "    }\n",
              "  </style>\n",
              "\n",
              "      <script>\n",
              "        const buttonEl =\n",
              "          document.querySelector('#df-3966b3b8-619e-4af1-81f0-26fcb0d4007b button.colab-df-convert');\n",
              "        buttonEl.style.display =\n",
              "          google.colab.kernel.accessAllowed ? 'block' : 'none';\n",
              "\n",
              "        async function convertToInteractive(key) {\n",
              "          const element = document.querySelector('#df-3966b3b8-619e-4af1-81f0-26fcb0d4007b');\n",
              "          const dataTable =\n",
              "            await google.colab.kernel.invokeFunction('convertToInteractive',\n",
              "                                                     [key], {});\n",
              "          if (!dataTable) return;\n",
              "\n",
              "          const docLinkHtml = 'Like what you see? Visit the ' +\n",
              "            '<a target=\"_blank\" href=https://colab.research.google.com/notebooks/data_table.ipynb>data table notebook</a>'\n",
              "            + ' to learn more about interactive tables.';\n",
              "          element.innerHTML = '';\n",
              "          dataTable['output_type'] = 'display_data';\n",
              "          await google.colab.output.renderOutput(dataTable, element);\n",
              "          const docLink = document.createElement('div');\n",
              "          docLink.innerHTML = docLinkHtml;\n",
              "          element.appendChild(docLink);\n",
              "        }\n",
              "      </script>\n",
              "    </div>\n",
              "  </div>\n",
              "  "
            ]
          },
          "metadata": {},
          "execution_count": 10
        }
      ]
    },
    {
      "cell_type": "code",
      "source": [
        "fig = plt.figure(figsize=(8,8))\n",
        "sns.scatterplot(x='LLE1',y='LLE2',hue='class',data=crabs_min_max)"
      ],
      "metadata": {
        "colab": {
          "base_uri": "https://localhost:8080/",
          "height": 514
        },
        "id": "v2sVM37xXYqk",
        "outputId": "171c1f8f-3247-45bd-dbdc-0ca633bd286b"
      },
      "execution_count": 11,
      "outputs": [
        {
          "output_type": "execute_result",
          "data": {
            "text/plain": [
              "<matplotlib.axes._subplots.AxesSubplot at 0x7f7e00c99b20>"
            ]
          },
          "metadata": {},
          "execution_count": 11
        },
        {
          "output_type": "display_data",
          "data": {
            "text/plain": [
              "<Figure size 576x576 with 1 Axes>"
            ],
            "image/png": "[encoded data removed]"
          },
          "metadata": {
            "needs_background": "light"
          }
        }
      ]
    },
    {
      "cell_type": "markdown",
      "source": [
        "### LLE with 3 Dimensions"
      ],
      "metadata": {
        "id": "CatUgJsRnZ0N"
      }
    },
    {
      "cell_type": "code",
      "source": [
        "lle = LocallyLinearEmbedding(n_components=3,n_neighbors=15)\n",
        "crabs_lle = lle.fit_transform(crabs_min_max[data_columns])\n",
        "crabs_min_max[['LLE1','LLE2','LLE3']] = crabs_lle\n",
        "\n",
        "print('Reconstruction error: ',lle.reconstruction_error_)"
      ],
      "metadata": {
        "id": "vgG6OoIS3s8J",
        "colab": {
          "base_uri": "https://localhost:8080/"
        },
        "outputId": "aad28a97-145f-4b82-ff0c-fe7a4cd97848"
      },
      "execution_count": 12,
      "outputs": [
        {
          "output_type": "stream",
          "name": "stdout",
          "text": [
            "Reconstruction error:  1.5214133596539796e-05\n"
          ]
        }
      ]
    },
    {
      "cell_type": "code",
      "source": [
        "fig = plt.figure(figsize=(8,8))\n",
        "ax = fig.add_subplot(111,projection='3d')\n",
        "\n",
        "colors_crabs = {'BlueFemale':'y','BlueMale':'b','OrangeFemale':'r','OrangeMale':'g'}\n",
        "\n",
        "plt.scatter(crabs_min_max.LLE1,crabs_min_max.LLE2,zs=crabs_min_max.LLE3,\n",
        "            depthshade=False, c = crabs_data['class'].apply(lambda x: colors_crabs[x]),s=100)"
      ],
      "metadata": {
        "colab": {
          "base_uri": "https://localhost:8080/",
          "height": 483
        },
        "id": "sltzuwBz6Y3M",
        "outputId": "745aaa84-d8a8-4861-97a2-f4b2eb2d178a"
      },
      "execution_count": 13,
      "outputs": [
        {
          "output_type": "execute_result",
          "data": {
            "text/plain": [
              "<mpl_toolkits.mplot3d.art3d.Path3DCollection at 0x7f7dfe72d3a0>"
            ]
          },
          "metadata": {},
          "execution_count": 13
        },
        {
          "output_type": "display_data",
          "data": {
            "text/plain": [
              "<Figure size 576x576 with 1 Axes>"
            ],
            "image/png": "[encoded data removed]"
          },
          "metadata": {
            "needs_background": "light"
          }
        }
      ]
    },
    {
      "cell_type": "markdown",
      "source": [
        "###Using Plotly Express"
      ],
      "metadata": {
        "id": "HhccxdAU-U8O"
      }
    },
    {
      "cell_type": "code",
      "source": [
        "fig = px.scatter_3d(crabs_min_max,x='LLE1',y='LLE2',z='LLE3',color='class')\n",
        "fig.show()"
      ],
      "metadata": {
        "colab": {
          "base_uri": "https://localhost:8080/",
          "height": 542
        },
        "id": "lPe7j5py94Ws",
        "outputId": "a40e1aaa-40bc-42b6-e97b-47e94dbd3beb"
      },
      "execution_count": 14,
      "outputs": [
        {
          "output_type": "display_data",
          "data": {
            "text/html": [
              "<html>\n",
              "<head><meta charset=\"utf-8\" /></head>\n",
              "<body>\n",
              "    <div>            <script src=\"https://cdnjs.cloudflare.com/ajax/libs/mathjax/2.7.5/MathJax.js?config=TeX-AMS-MML_SVG\"></script><script type=\"text/javascript\">if (window.MathJax) {MathJax.Hub.Config({SVG: {font: \"STIX-Web\"}});}</script>                <script type=\"text/javascript\">window.PlotlyConfig = {MathJaxConfig: 'local'};</script>\n",
              "        <script src=\"https://cdn.plot.ly/plotly-2.8.3.min.js\"></script>                <div id=\"68f1ee7d-7d60-4d8f-a87d-3be08c81c7ba\" class=\"plotly-graph-div\" style=\"height:525px; width:100%;\"></div>            <script type=\"text/javascript\">                                    window.PLOTLYENV=window.PLOTLYENV || {};                                    if (document.getElementById(\"68f1ee7d-7d60-4d8f-a87d-3be08c81c7ba\")) {                    Plotly.newPlot(                        \"68f1ee7d-7d60-4d8f-a87d-3be08c81c7ba\",                        [{\"hovertemplate\":\"class=BlueMale<br>LLE1=%{x}<br>LLE2=%{y}<br>LLE3=%{z}<extra></extra>\",\"legendgroup\":\"BlueMale\",\"marker\":{\"color\":\"#636efa\",\"symbol\":\"circle\"},\"mode\":\"markers\",\"name\":\"BlueMale\",\"scene\":\"scene\",\"showlegend\":true,\"x\":[-0.14544877280269364,-0.13311112866745523,-0.12650579325168898,-0.1186497985808015,-0.11708754281268827,-0.089254474236248,-0.0856352535075325,-0.0751322398064137,-0.08073833257245379,-0.07271878536434617,-0.05880406515145914,-0.05734370080813452,-0.051655510542792764,-0.05434982538088167,-0.0540707028442591,-0.0536444705930083,-0.048697032936722215,-0.04754386411095904,-0.04742141505079945,-0.03289774777333571,-0.01692201082390197,-0.0030414940931052306,-0.003910611509376959,-0.001085094508656917,-0.0009999752481915716,-0.0026471804530706633,0.004204678073563055,0.02682847524350062,0.013203448529164417,0.019762987292035142,0.029498876190642495,0.03448839454993823,0.031103118619144592,0.033804112032831325,0.048076903950747416,0.037389812089759084,0.047668326029727606,0.04155140630806405,0.04481247477397623,0.05442163217572541,0.06344595881083297,0.06947898177351246,0.06771200460363765,0.09168059628486577,0.10172832316510172,0.09148407010887126,0.09891407160962352,0.11738571526766906,0.11021228656145111,0.15386186319274806],\"y\":[0.0609730797054518,0.05766396479804008,0.05331603007507569,0.028331235479656117,0.022012734344466392,0.02343339489594426,0.027445321947458027,0.01712520881444854,0.019206238375635645,0.037763584267467634,0.07641432416317481,0.019002393581509756,0.03967625596164555,0.07101624351456752,0.06350366555625295,0.0027836802228767797,0.09364531996744137,0.0809969601352308,0.058281683717461945,0.04334029473066138,0.09023090459310179,0.0763730326073629,0.06856277042131882,0.0885409902768994,0.08069232624459645,0.04809643765691058,0.07898421428906575,0.13792279783745331,0.07035147262729298,0.0704325804715133,0.05958760401762257,0.10757638155300368,0.10312919253794262,0.10549618973632643,0.18952715362847852,0.1103853371357373,0.11647759031704272,0.09820084799737726,0.08009054786678833,0.11431873090629027,0.13155592511802694,0.10500803466961842,0.11693563877879237,0.16658804785902975,0.11440203388263417,0.1195476365017055,0.11290367691264701,0.1403312973612292,0.12010932374757831,0.18507698703778386],\"z\":[0.0929197987665055,0.05949309876324925,0.05348367871791035,0.05957763746998787,0.06000457480039485,0.04626085050588334,0.008295436483065844,0.05599576217666555,0.028333943485980544,-0.00938348816898154,-0.014924423263047985,-0.014345253476987401,0.03957357418450201,0.01929153381080312,-0.0096617820555751,-0.002590653768870188,0.006096865994229421,-0.004233129023933156,-0.010959706386058863,0.019999193355775505,0.015192999113073393,0.07280032113386031,0.0765657100494335,0.04881190618134584,0.02875831760257037,0.015640053315850624,0.03860671383032152,0.019033047802004797,0.0007726344735705347,0.082091966754288,0.029611978088317035,-0.0005425686282892507,0.026724978961990453,0.011885760274458507,-0.00898338752095177,0.026115614241786003,0.023366493535063454,0.04610176006183309,0.05335722510767493,0.019692195673597836,0.023207689754882525,0.024533580549236246,0.02997259932143831,-0.05120327541006671,0.09311015879433808,0.055728482794815085,-0.002753625289394897,0.07753725795375581,0.06431605329331716,0.05654449051827319],\"type\":\"scatter3d\"},{\"hovertemplate\":\"class=BlueFemale<br>LLE1=%{x}<br>LLE2=%{y}<br>LLE3=%{z}<extra></extra>\",\"legendgroup\":\"BlueFemale\",\"marker\":{\"color\":\"#EF553B\",\"symbol\":\"circle\"},\"mode\":\"markers\",\"name\":\"BlueFemale\",\"scene\":\"scene\",\"showlegend\":true,\"x\":[-0.1594980638905386,-0.12561438229510205,-0.12777073797262894,-0.12610566077941465,-0.12257095936736005,-0.11068240993919157,-0.11019981605804671,-0.10457221440063638,-0.10677133215004372,-0.09591793133169788,-0.10238674588327375,-0.09052798681637986,-0.07742970031540507,-0.07598456168236056,-0.08172701235488561,-0.07451548723596184,-0.06628113495725023,-0.07259868654952888,-0.0673592490338242,-0.0590728668793645,-0.051545092801075026,-0.05707884224817637,-0.05090999011815696,-0.05172742620983728,-0.05065065844200478,-0.0485519296243716,-0.04362047027235733,-0.041474276301421385,-0.02855964429981918,-0.02602842866109292,-0.030628997601243657,-0.012209940955982398,-0.010646090966097341,-0.012877727603597525,-0.010396876517444389,-0.018919831954018074,-3.576035768964106e-05,-0.008172276444780364,-0.004191367070841135,0.0044181096844347284,-0.007058567354280996,0.0007321418113752035,0.0017942118247739804,0.009783362109433612,0.0037210034311100817,0.01809688413279665,0.02237055426552648,0.04088048112885248,0.04702811077160577,0.08418523174519899],\"y\":[0.10362553064157949,0.07666930105520824,0.05130417043500418,0.06110390843330213,0.0446852118123326,0.02458649196146316,0.04067361561604499,0.02035333877516693,0.05477062316613471,0.035841812678272446,0.04439580226664237,0.017292265461862286,0.04214809812775512,0.006962271577665737,-0.008103767550669612,0.011896414603929276,0.023991076969179993,-0.007574588946654283,-0.018305939334878344,0.02339680905567314,-0.02952401770344569,0.03339702635775625,0.04370915222134503,0.039545425040630175,0.07839719427630754,0.03958015624112353,0.040294234974699444,0.02687849600493122,0.025766650078307307,0.004212809578639835,0.015246270858773954,0.007991892407100323,0.03453891655495375,0.0131735933190476,0.01967854372040948,0.02319296421845794,0.05108929834274398,0.043872218017693254,0.03276950618015343,0.03990719893295824,0.0388875644889993,0.06189766690780002,0.044739444689616534,0.05167003805136337,0.06331401400544978,0.016783799120385107,0.07004179507048089,0.07684287971489198,0.08015885587092562,0.09042152292059148],\"z\":[0.0873111375312591,0.02259130119943352,0.04800137602644279,0.03926340096092092,0.04548043531474986,0.03064039590326533,0.008380922738943634,0.010553227615866623,-0.012806765462199679,0.012403441314332984,-0.010705337031511556,-0.000894645224715232,-0.04040841022720608,-0.029765018825294528,-0.050472470739868144,-0.0094595101566372,-0.04180237654338459,-0.008996868024422996,-0.01919083698818046,-0.07538749865367862,-0.0289053687304745,-0.06910604218980765,-0.05983752497074443,-0.02816388921346315,-0.04097820319313896,-0.06037278031797645,-0.03748095319828891,-0.08502555279653544,-0.06907464088565135,-0.06166418002519258,-0.136155135882361,-0.09056571737564863,-0.12421610417378831,-0.07494518205555908,-0.0774991961629342,-0.13345694013588102,-0.10544023707428674,-0.12453464804979993,-0.060477602820719914,-0.06356219170748387,-0.11624970785233234,-0.1365913855480669,-0.08922900334372699,-0.11943867021240612,-0.170080283782358,-0.04871210173699188,-0.1689372069836127,-0.16989097616350282,-0.14580721117865622,-0.07466610333140368],\"type\":\"scatter3d\"},{\"hovertemplate\":\"class=OrangeMale<br>LLE1=%{x}<br>LLE2=%{y}<br>LLE3=%{z}<extra></extra>\",\"legendgroup\":\"OrangeMale\",\"marker\":{\"color\":\"#00cc96\",\"symbol\":\"circle\"},\"mode\":\"markers\",\"name\":\"OrangeMale\",\"scene\":\"scene\",\"showlegend\":true,\"x\":[-0.13651743582705786,-0.10968103755094806,-0.10425277208799216,-0.08712634363542657,-0.07405284606599044,-0.06754954140772551,-0.055131143050227316,-0.047049539768399186,-0.047773141346008505,-0.04225493869167422,-0.028501883741367216,-0.023714929092402134,-0.025865466076984547,-0.026469188447903136,-0.02820542443302762,-0.03419899326904313,-0.02449993973720307,-0.021928228005107377,-0.023891199317148594,-0.011128776932468366,-0.00855247502576024,-0.010730540332269455,-0.003680654070409896,0.008644793403584252,0.004213749161951727,0.032887122674708114,0.04218270522789984,0.029859080710756762,0.03373921024092393,0.04688894205033398,0.05133942480690763,0.05269272883366091,0.06540820571692649,0.06461234293805929,0.0634680029368273,0.05401014297831193,0.060746396169402514,0.07474783840070874,0.07653984219793437,0.08131572732172095,0.09428547610123711,0.11464273517162454,0.11587000183692765,0.140233060201338,0.140565962860366,0.12888690266924202,0.14618356193374732,0.13697606671306936,0.15892876858999513,0.16901535341172097],\"y\":[0.004900548818978667,-0.03434146404246804,-0.054584916531879885,-0.05836927425932098,-0.11586608554712462,-0.09947123360999552,-0.10934051797538145,-0.07425381962597571,-0.08406014430951295,-0.07010446002378375,-0.03999711839458503,-0.07413512314807849,-0.04923572466981142,-0.07577362861297847,-0.06107013169517972,-0.10355116188878208,-0.07167298569261545,-0.010695586696485227,-0.08740464407590548,-0.0889096217231086,-0.05162252037606119,-0.07209810193638913,-0.08447424074885322,-0.0804850513819551,-0.11994098556233375,-0.028123237117894804,-0.028652585136326715,-0.07775300734268464,-0.0835747266774649,-0.05974839044352198,-0.014337711338040057,-0.04095520669263111,0.01640921721552286,-0.03833066038388635,-0.039045694869769505,-0.08614527096238359,-0.08606352506939541,-0.015834609595842656,-0.04232975773182185,-0.009611159133220526,-0.01480573504755063,-0.018824660607285226,-0.013575963570114145,0.00941965160780385,0.016968043080680974,-0.024511932721923237,0.018853467312517216,-0.018199607879184825,-0.0019274362473031548,0.024455085068996803],\"z\":[0.11125269325314888,0.08167546774102391,0.0738670170994142,0.0735547680079005,0.08233088880813874,0.08386019443329398,0.0500494600906065,0.02242183431282374,0.0682272173784499,0.02978770374756394,0.03871920485840347,0.11436638525251713,0.10055518005430894,0.08610175753622543,0.08074651815703456,0.06049877096177496,0.061308309976886896,0.03522436136563731,0.05716967164779299,0.07625562846972979,0.06776167199535452,0.07550091658092882,0.03654912166208612,0.08445451184662232,0.08953889873180604,0.06678607910013079,0.0745173668906361,0.10424904362008805,0.0754453873912639,0.10545747397143683,0.08052350450650322,0.06602553746239871,0.06235707673381311,0.08927502350700368,0.08257488137086039,0.07215178203715159,0.08945571417243244,0.08042209734586804,0.06927957252161124,0.054624532475626736,0.10632001492701872,0.1178461879000117,0.0852901265366402,0.10372637864568751,0.10498742127672805,0.11794291423575293,0.09594356076492627,0.08300184752861431,0.07346700882260161,0.12912852231442912],\"type\":\"scatter3d\"},{\"hovertemplate\":\"class=OrangeFemale<br>LLE1=%{x}<br>LLE2=%{y}<br>LLE3=%{z}<extra></extra>\",\"legendgroup\":\"OrangeFemale\",\"marker\":{\"color\":\"#ab63fa\",\"symbol\":\"circle\"},\"mode\":\"markers\",\"name\":\"OrangeFemale\",\"scene\":\"scene\",\"showlegend\":true,\"x\":[-0.09701612627040804,-0.09321967638816767,-0.07034482883048918,-0.06307576727587906,-0.055551129779713035,-0.04243367740589242,-0.036340795413465445,-0.03755822071509974,-0.029522506764376746,-0.02322969297642951,-0.015596688222229635,-0.010019529853677583,-0.013213702869073661,-0.016735160192698887,-0.012647178192084635,-0.004335624905202644,-0.005826672347239349,-0.008466021554695585,0.004832563617264999,0.008361526889165997,0.026818841495410344,0.026922211315360038,0.011977876771252192,0.02503242012080478,0.028804806615385616,0.047371165648099144,0.03233983468873086,0.03369331859062695,0.041788359420748926,0.05228731240987572,0.03141622755971406,0.04285034332035363,0.03450245576754611,0.053451045234860384,0.05460046174487443,0.07057839574024123,0.07055809824772136,0.07319194613794451,0.07710466985194082,0.07365093244913727,0.07763972846072734,0.0822314650614711,0.09047898384164825,0.08070056814217695,0.10920378414449106,0.09010059186075724,0.10547572251510871,0.10990811441049668,0.12045555980579274,0.13713531353499822],\"y\":[-0.04872672247709019,-0.07186280370164229,-0.09157942836686248,-0.09764159580476583,-0.09659167357858614,-0.1327168242495408,-0.04560069084816331,-0.08862592553391531,-0.059030706465359545,-0.06531212975246022,-0.09417403900600257,-0.07403023392877427,-0.06007713609494688,-0.09238876000901032,-0.08233852384394423,-0.06613359645203344,-0.06624261782910684,-0.07898326536442835,-0.08804483185131352,-0.08702785124773979,-0.05209128079058197,-0.07679780505886186,-0.09642183248815393,-0.084274937461595,-0.08249835388834842,0.005838764885134311,-0.08365827096465585,-0.08507689799651945,-0.04695874842323848,-0.029835064640916027,-0.09478368108863709,-0.10464040559017715,-0.05619735992980757,-0.05781849781652114,-0.06047674738192503,-0.06651418135580543,-0.06558540708597178,-0.002461044016049437,-0.02377234922484803,-0.08623178779562306,-0.07678382468753582,-0.08080036459244969,-0.054212659392184684,-0.07627073283922102,-0.03706438289796185,-0.08773483338855037,-0.08039559524375108,-0.07461997169834031,-0.06970371848299169,-0.03378014121760985],\"z\":[0.03125379326615216,0.06205425822391464,0.05080167094512107,-0.012775030609113763,0.00847181999383176,-0.03226060219156731,-0.058311704527180624,-0.03912026019547212,-0.08284571691637464,-0.05402034973774096,0.020576357646045356,-0.05226651233809592,-0.10134134261428675,-0.10451909003337094,-0.06825280557380425,-0.05671457021764802,-0.06666301068698405,-0.09474284717386373,-0.06871357262303623,-0.08086021777809559,-0.03508996872435366,-0.026654792587412796,-0.08627657281955113,-0.01678534933823599,-0.057666207222462504,-0.1027316577057699,-0.08810509929126667,-0.0798425028315391,-0.07997809153826807,-0.007479826350836703,-0.04769958775913677,-0.036425837458689825,-0.1603176424898989,-0.07045165094967967,-0.0777526163744714,-0.058089159568116985,-0.05889130665972361,-0.134906451596382,-0.06659809205620966,-0.07057380028795507,-0.015697268346589834,-0.0708288793704038,-0.06174401946888884,-0.042749669579188354,-0.07003049469476935,-0.0851672872311391,-0.01645198763835147,-0.014674443415389062,-0.0026747375308632713,-0.1034882801199749],\"type\":\"scatter3d\"}],                        {\"template\":{\"data\":{\"bar\":[{\"error_x\":{\"color\":\"#2a3f5f\"},\"error_y\":{\"color\":\"#2a3f5f\"},\"marker\":{\"line\":{\"color\":\"#E5ECF6\",\"width\":0.5},\"pattern\":{\"fillmode\":\"overlay\",\"size\":10,\"solidity\":0.2}},\"type\":\"bar\"}],\"barpolar\":[{\"marker\":{\"line\":{\"color\":\"#E5ECF6\",\"width\":0.5},\"pattern\":{\"fillmode\":\"overlay\",\"size\":10,\"solidity\":0.2}},\"type\":\"barpolar\"}],\"carpet\":[{\"aaxis\":{\"endlinecolor\":\"#2a3f5f\",\"gridcolor\":\"white\",\"linecolor\":\"white\",\"minorgridcolor\":\"white\",\"startlinecolor\":\"#2a3f5f\"},\"baxis\":{\"endlinecolor\":\"#2a3f5f\",\"gridcolor\":\"white\",\"linecolor\":\"white\",\"minorgridcolor\":\"white\",\"startlinecolor\":\"#2a3f5f\"},\"type\":\"carpet\"}],\"choropleth\":[{\"colorbar\":{\"outlinewidth\":0,\"ticks\":\"\"},\"type\":\"choropleth\"}],\"contour\":[{\"colorbar\":{\"outlinewidth\":0,\"ticks\":\"\"},\"colorscale\":[[0.0,\"#0d0887\"],[0.1111111111111111,\"#46039f\"],[0.2222222222222222,\"#7201a8\"],[0.3333333333333333,\"#9c179e\"],[0.4444444444444444,\"#bd3786\"],[0.5555555555555556,\"#d8576b\"],[0.6666666666666666,\"#ed7953\"],[0.7777777777777778,\"#fb9f3a\"],[0.8888888888888888,\"#fdca26\"],[1.0,\"#f0f921\"]],\"type\":\"contour\"}],\"contourcarpet\":[{\"colorbar\":{\"outlinewidth\":0,\"ticks\":\"\"},\"type\":\"contourcarpet\"}],\"heatmap\":[{\"colorbar\":{\"outlinewidth\":0,\"ticks\":\"\"},\"colorscale\":[[0.0,\"#0d0887\"],[0.1111111111111111,\"#46039f\"],[0.2222222222222222,\"#7201a8\"],[0.3333333333333333,\"#9c179e\"],[0.4444444444444444,\"#bd3786\"],[0.5555555555555556,\"#d8576b\"],[0.6666666666666666,\"#ed7953\"],[0.7777777777777778,\"#fb9f3a\"],[0.8888888888888888,\"#fdca26\"],[1.0,\"#f0f921\"]],\"type\":\"heatmap\"}],\"heatmapgl\":[{\"colorbar\":{\"outlinewidth\":0,\"ticks\":\"\"},\"colorscale\":[[0.0,\"#0d0887\"],[0.1111111111111111,\"#46039f\"],[0.2222222222222222,\"#7201a8\"],[0.3333333333333333,\"#9c179e\"],[0.4444444444444444,\"#bd3786\"],[0.5555555555555556,\"#d8576b\"],[0.6666666666666666,\"#ed7953\"],[0.7777777777777778,\"#fb9f3a\"],[0.8888888888888888,\"#fdca26\"],[1.0,\"#f0f921\"]],\"type\":\"heatmapgl\"}],\"histogram\":[{\"marker\":{\"pattern\":{\"fillmode\":\"overlay\",\"size\":10,\"solidity\":0.2}},\"type\":\"histogram\"}],\"histogram2d\":[{\"colorbar\":{\"outlinewidth\":0,\"ticks\":\"\"},\"colorscale\":[[0.0,\"#0d0887\"],[0.1111111111111111,\"#46039f\"],[0.2222222222222222,\"#7201a8\"],[0.3333333333333333,\"#9c179e\"],[0.4444444444444444,\"#bd3786\"],[0.5555555555555556,\"#d8576b\"],[0.6666666666666666,\"#ed7953\"],[0.7777777777777778,\"#fb9f3a\"],[0.8888888888888888,\"#fdca26\"],[1.0,\"#f0f921\"]],\"type\":\"histogram2d\"}],\"histogram2dcontour\":[{\"colorbar\":{\"outlinewidth\":0,\"ticks\":\"\"},\"colorscale\":[[0.0,\"#0d0887\"],[0.1111111111111111,\"#46039f\"],[0.2222222222222222,\"#7201a8\"],[0.3333333333333333,\"#9c179e\"],[0.4444444444444444,\"#bd3786\"],[0.5555555555555556,\"#d8576b\"],[0.6666666666666666,\"#ed7953\"],[0.7777777777777778,\"#fb9f3a\"],[0.8888888888888888,\"#fdca26\"],[1.0,\"#f0f921\"]],\"type\":\"histogram2dcontour\"}],\"mesh3d\":[{\"colorbar\":{\"outlinewidth\":0,\"ticks\":\"\"},\"type\":\"mesh3d\"}],\"parcoords\":[{\"line\":{\"colorbar\":{\"outlinewidth\":0,\"ticks\":\"\"}},\"type\":\"parcoords\"}],\"pie\":[{\"automargin\":true,\"type\":\"pie\"}],\"scatter\":[{\"marker\":{\"colorbar\":{\"outlinewidth\":0,\"ticks\":\"\"}},\"type\":\"scatter\"}],\"scatter3d\":[{\"line\":{\"colorbar\":{\"outlinewidth\":0,\"ticks\":\"\"}},\"marker\":{\"colorbar\":{\"outlinewidth\":0,\"ticks\":\"\"}},\"type\":\"scatter3d\"}],\"scattercarpet\":[{\"marker\":{\"colorbar\":{\"outlinewidth\":0,\"ticks\":\"\"}},\"type\":\"scattercarpet\"}],\"scattergeo\":[{\"marker\":{\"colorbar\":{\"outlinewidth\":0,\"ticks\":\"\"}},\"type\":\"scattergeo\"}],\"scattergl\":[{\"marker\":{\"colorbar\":{\"outlinewidth\":0,\"ticks\":\"\"}},\"type\":\"scattergl\"}],\"scattermapbox\":[{\"marker\":{\"colorbar\":{\"outlinewidth\":0,\"ticks\":\"\"}},\"type\":\"scattermapbox\"}],\"scatterpolar\":[{\"marker\":{\"colorbar\":{\"outlinewidth\":0,\"ticks\":\"\"}},\"type\":\"scatterpolar\"}],\"scatterpolargl\":[{\"marker\":{\"colorbar\":{\"outlinewidth\":0,\"ticks\":\"\"}},\"type\":\"scatterpolargl\"}],\"scatterternary\":[{\"marker\":{\"colorbar\":{\"outlinewidth\":0,\"ticks\":\"\"}},\"type\":\"scatterternary\"}],\"surface\":[{\"colorbar\":{\"outlinewidth\":0,\"ticks\":\"\"},\"colorscale\":[[0.0,\"#0d0887\"],[0.1111111111111111,\"#46039f\"],[0.2222222222222222,\"#7201a8\"],[0.3333333333333333,\"#9c179e\"],[0.4444444444444444,\"#bd3786\"],[0.5555555555555556,\"#d8576b\"],[0.6666666666666666,\"#ed7953\"],[0.7777777777777778,\"#fb9f3a\"],[0.8888888888888888,\"#fdca26\"],[1.0,\"#f0f921\"]],\"type\":\"surface\"}],\"table\":[{\"cells\":{\"fill\":{\"color\":\"#EBF0F8\"},\"line\":{\"color\":\"white\"}},\"header\":{\"fill\":{\"color\":\"#C8D4E3\"},\"line\":{\"color\":\"white\"}},\"type\":\"table\"}]},\"layout\":{\"annotationdefaults\":{\"arrowcolor\":\"#2a3f5f\",\"arrowhead\":0,\"arrowwidth\":1},\"autotypenumbers\":\"strict\",\"coloraxis\":{\"colorbar\":{\"outlinewidth\":0,\"ticks\":\"\"}},\"colorscale\":{\"diverging\":[[0,\"#8e0152\"],[0.1,\"#c51b7d\"],[0.2,\"#de77ae\"],[0.3,\"#f1b6da\"],[0.4,\"#fde0ef\"],[0.5,\"#f7f7f7\"],[0.6,\"#e6f5d0\"],[0.7,\"#b8e186\"],[0.8,\"#7fbc41\"],[0.9,\"#4d9221\"],[1,\"#276419\"]],\"sequential\":[[0.0,\"#0d0887\"],[0.1111111111111111,\"#46039f\"],[0.2222222222222222,\"#7201a8\"],[0.3333333333333333,\"#9c179e\"],[0.4444444444444444,\"#bd3786\"],[0.5555555555555556,\"#d8576b\"],[0.6666666666666666,\"#ed7953\"],[0.7777777777777778,\"#fb9f3a\"],[0.8888888888888888,\"#fdca26\"],[1.0,\"#f0f921\"]],\"sequentialminus\":[[0.0,\"#0d0887\"],[0.1111111111111111,\"#46039f\"],[0.2222222222222222,\"#7201a8\"],[0.3333333333333333,\"#9c179e\"],[0.4444444444444444,\"#bd3786\"],[0.5555555555555556,\"#d8576b\"],[0.6666666666666666,\"#ed7953\"],[0.7777777777777778,\"#fb9f3a\"],[0.8888888888888888,\"#fdca26\"],[1.0,\"#f0f921\"]]},\"colorway\":[\"#636efa\",\"#EF553B\",\"#00cc96\",\"#ab63fa\",\"#FFA15A\",\"#19d3f3\",\"#FF6692\",\"#B6E880\",\"#FF97FF\",\"#FECB52\"],\"font\":{\"color\":\"#2a3f5f\"},\"geo\":{\"bgcolor\":\"white\",\"lakecolor\":\"white\",\"landcolor\":\"#E5ECF6\",\"showlakes\":true,\"showland\":true,\"subunitcolor\":\"white\"},\"hoverlabel\":{\"align\":\"left\"},\"hovermode\":\"closest\",\"mapbox\":{\"style\":\"light\"},\"paper_bgcolor\":\"white\",\"plot_bgcolor\":\"#E5ECF6\",\"polar\":{\"angularaxis\":{\"gridcolor\":\"white\",\"linecolor\":\"white\",\"ticks\":\"\"},\"bgcolor\":\"#E5ECF6\",\"radialaxis\":{\"gridcolor\":\"white\",\"linecolor\":\"white\",\"ticks\":\"\"}},\"scene\":{\"xaxis\":{\"backgroundcolor\":\"#E5ECF6\",\"gridcolor\":\"white\",\"gridwidth\":2,\"linecolor\":\"white\",\"showbackground\":true,\"ticks\":\"\",\"zerolinecolor\":\"white\"},\"yaxis\":{\"backgroundcolor\":\"#E5ECF6\",\"gridcolor\":\"white\",\"gridwidth\":2,\"linecolor\":\"white\",\"showbackground\":true,\"ticks\":\"\",\"zerolinecolor\":\"white\"},\"zaxis\":{\"backgroundcolor\":\"#E5ECF6\",\"gridcolor\":\"white\",\"gridwidth\":2,\"linecolor\":\"white\",\"showbackground\":true,\"ticks\":\"\",\"zerolinecolor\":\"white\"}},\"shapedefaults\":{\"line\":{\"color\":\"#2a3f5f\"}},\"ternary\":{\"aaxis\":{\"gridcolor\":\"white\",\"linecolor\":\"white\",\"ticks\":\"\"},\"baxis\":{\"gridcolor\":\"white\",\"linecolor\":\"white\",\"ticks\":\"\"},\"bgcolor\":\"#E5ECF6\",\"caxis\":{\"gridcolor\":\"white\",\"linecolor\":\"white\",\"ticks\":\"\"}},\"title\":{\"x\":0.05},\"xaxis\":{\"automargin\":true,\"gridcolor\":\"white\",\"linecolor\":\"white\",\"ticks\":\"\",\"title\":{\"standoff\":15},\"zerolinecolor\":\"white\",\"zerolinewidth\":2},\"yaxis\":{\"automargin\":true,\"gridcolor\":\"white\",\"linecolor\":\"white\",\"ticks\":\"\",\"title\":{\"standoff\":15},\"zerolinecolor\":\"white\",\"zerolinewidth\":2}}},\"scene\":{\"domain\":{\"x\":[0.0,1.0],\"y\":[0.0,1.0]},\"xaxis\":{\"title\":{\"text\":\"LLE1\"}},\"yaxis\":{\"title\":{\"text\":\"LLE2\"}},\"zaxis\":{\"title\":{\"text\":\"LLE3\"}}},\"legend\":{\"title\":{\"text\":\"class\"},\"tracegroupgap\":0},\"margin\":{\"t\":60}},                        {\"responsive\": true}                    ).then(function(){\n",
              "                            \n",
              "var gd = document.getElementById('68f1ee7d-7d60-4d8f-a87d-3be08c81c7ba');\n",
              "var x = new MutationObserver(function (mutations, observer) {{\n",
              "        var display = window.getComputedStyle(gd).display;\n",
              "        if (!display || display === 'none') {{\n",
              "            console.log([gd, 'removed!']);\n",
              "            Plotly.purge(gd);\n",
              "            observer.disconnect();\n",
              "        }}\n",
              "}});\n",
              "\n",
              "// Listen for the removal of the full notebook cells\n",
              "var notebookContainer = gd.closest('#notebook-container');\n",
              "if (notebookContainer) {{\n",
              "    x.observe(notebookContainer, {childList: true});\n",
              "}}\n",
              "\n",
              "// Listen for the clearing of the current output cell\n",
              "var outputEl = gd.closest('.output');\n",
              "if (outputEl) {{\n",
              "    x.observe(outputEl, {childList: true});\n",
              "}}\n",
              "\n",
              "                        })                };                            </script>        </div>\n",
              "</body>\n",
              "</html>"
            ]
          },
          "metadata": {}
        }
      ]
    }
  ]
}